{
 "metadata": {
  "name": "quadpole"
 },
 "nbformat": 3,
 "nbformat_minor": 0,
 "worksheets": [
  {
   "cells": [
    {
     "cell_type": "markdown",
     "metadata": {},
     "source": [
      "\n",
      "<h1 align=\"center\">Notebook 2: Electric Field Lines</h1>"
     ]
    },
    {
     "cell_type": "markdown",
     "metadata": {},
     "source": [
      "In this notebook we will show how we can use Python to plot field lines between charged particles. A point charge is placed on each corner of a square of width $a$. All charges have the same magnitude $q$. Two of the charges are positive and two are negative. \n",
      "<div style=\"text-align:center\">\n",
      "    <img src=\"https://raw.github.com/miladh/fys1120/master/notebooks/quadpole/figures/quadpole.png\" height=\"300\" width=\"300\">\n",
      "</div>\n",
      "Each particle sets up an electric field and our goal is to find the magnitude and direction of the electric field resulting from all four charges combined."
     ]
    },
    {
     "cell_type": "markdown",
     "metadata": {},
     "source": [
      "---\n",
      "#Quick Repetition\n",
      "\n",
      "Need a quick repetition? Check out this [video](http://www.youtube.com/watch?v=bT5Y0-ugQnU)!\n",
      "\n",
      "<div align=\"center\">\n",
      "<iframe width=\"560\" height=\"315\" src=\"//www.youtube.com/embed/bT5Y0-ugQnU\" frameborder=\"0\" allowfullscreen></iframe>\n",
      "</div>"
     ]
    },
    {
     "cell_type": "markdown",
     "metadata": {},
     "source": [
      "###Step 1: Import packages"
     ]
    },
    {
     "cell_type": "markdown",
     "metadata": {},
     "source": [
      "The first step is to import all needed packages. In this notebook all we need is the `pylab`-package. Click on the cell below and press `shift` + `Enter` in order to evaluate the cell."
     ]
    },
    {
     "cell_type": "code",
     "collapsed": false,
     "input": [
      "from pylab import *"
     ],
     "language": "python",
     "metadata": {},
     "outputs": []
    },
    {
     "cell_type": "markdown",
     "metadata": {},
     "source": [
      "---\n",
      "###Step 2: Define position and magnitude of electric charges"
     ]
    },
    {
     "cell_type": "markdown",
     "metadata": {},
     "source": [
      "We will place the electric charges in two-dimensional space, with the origin at the center of the square on which we put our charges. Each charge has a position vector and a charge magnitude. We store the $x$-position and $y$-position of the particles in separate vectors. The charge magnitudes are also stored in a vector. Evaluate the cell below (click on the cell and press `shift` + `Enter`), in order to set the positions and charge magnitude."
     ]
    },
    {
     "cell_type": "code",
     "collapsed": false,
     "input": [
      "a = 0.1  # metres\n",
      "q = 1e-9 # Coloumb\n",
      "epsilon0 = 8.85e-12 # Electric permittivity of empty space\n",
      "\n",
      "xPosition = 0.5*array([ a,  -a, -a,   a])\n",
      "yPosition = 0.5*array([ a,   a, -a,  -a])\n",
      "charge  = array([q, q, -q, -q])"
     ],
     "language": "python",
     "metadata": {},
     "outputs": []
    },
    {
     "cell_type": "markdown",
     "metadata": {},
     "source": [
      "The first particle is placed at $\\vec{r}_1 = 0.5a \\; \\hat{e}_x + 0.5a \\;\\hat{e}_y$  with a charge magnitude $q_1 =  1 \\cdot 10^{-9}\\text{C}$, and so on. \n",
      "\n",
      "\n",
      "To see that everything is set up correctly, evaluate the cell below to display the current values of xPosition, yPosition and charge."
     ]
    },
    {
     "cell_type": "code",
     "collapsed": false,
     "input": [
      "print \"xPosition:\", xPosition\n",
      "print \"yPosition:\", yPosition\n",
      "print \"charge:\", charge"
     ],
     "language": "python",
     "metadata": {},
     "outputs": []
    },
    {
     "cell_type": "markdown",
     "metadata": {},
     "source": [
      "Looks good! Let's continue with some calculations."
     ]
    },
    {
     "cell_type": "markdown",
     "metadata": {},
     "source": [
      "---\n",
      "###Step 3: Define region size"
     ]
    },
    {
     "cell_type": "markdown",
     "metadata": {},
     "source": [
      "Having placed the particles in 2D-space, we need to determine the region we want to analyse and plot - we must set the boundary conditions. We define four variables with the limits in the x- and y-direction: (evaluate the cell)"
     ]
    },
    {
     "cell_type": "code",
     "collapsed": false,
     "input": [
      "xMin = -0.4  * a\n",
      "xMax =  0.4  * a\n",
      "yMin = -0.4  * a\n",
      "yMax =  0.4  * a"
     ],
     "language": "python",
     "metadata": {},
     "outputs": []
    },
    {
     "cell_type": "markdown",
     "metadata": {},
     "source": [
      "---\n",
      "###Step 4: Initialize arrays"
     ]
    },
    {
     "cell_type": "markdown",
     "metadata": {},
     "source": [
      "An electric field has a magnitude and a direction in every single point in space. However, when using a computer our domain must be discrete, that is, we only calculate the magnitude and direction of the field at certian points in space. To do this, we construct a 2D grid and evaluate the electric field at every point ($x_i, y_j$) on this grid. Let's say we choose to calculate the electric field in $n$-points in both $x$- and $y$-direction. This means that we in total calculate the electric field in $n \\times n$ points. The magnitude of the field in $x$- and $y$-direction at each of these points, are stored in matrices. \n",
      "\n",
      "We make two $n \\times n$ matrices; one for $x$-component and one for $y$-component of the electric field, and set each element in the matrices to zero. This is done by using the `zeros` function in Python. Evaluate the cell below.\n",
      "\n",
      "\n"
     ]
    },
    {
     "cell_type": "code",
     "collapsed": false,
     "input": [
      "n = 51\n",
      "Ex = zeros((n,n))\n",
      "Ey = zeros((n,n))\n",
      "\n",
      "print \"Ex = \", Ex\n",
      "print \"\"\n",
      "print \"Ey = \", Ey"
     ],
     "language": "python",
     "metadata": {},
     "outputs": []
    },
    {
     "cell_type": "markdown",
     "metadata": {},
     "source": [
      "Each element in the matrices refer to some specific point in space. We must now find a way to explicitly determine the coordinates where the field is going to be calculated. This is done by using the `linspace()` function. This function generates linearly spaced vectors where we have direct control over the number of points. For example\n",
      "\n",
      "    y = linspace(a,b,n)\n",
      "\n",
      "generates a row vector y of n points linearly spaced between a and b. \n",
      "\n",
      "The $x$- and $y$ coordiantes where the electric field is going to be calculated, is stored in the two vectors `xPoints` and `yPoints`. Run the cell below."
     ]
    },
    {
     "cell_type": "code",
     "collapsed": false,
     "input": [
      "xPoints = linspace(xMin,xMax,n)\n",
      "yPoints = linspace(yMin,yMax,n)\n",
      "\n",
      "print \"x-coordinates: \", xPoints\n",
      "print \"Dimension of the vector: \" , shape(xPoints)"
     ],
     "language": "python",
     "metadata": {},
     "outputs": []
    },
    {
     "cell_type": "markdown",
     "metadata": {},
     "source": [
      "As you can see from the output of the cell above, we have $n=51 $ $x$-coordinates. We have the same number of $y$-coordinates, resulting in $n \\times n$ unique points in space, where the electric field is going to be calculated at."
     ]
    },
    {
     "cell_type": "markdown",
     "metadata": {},
     "source": [
      "---\n",
      "###Step 5: Calculate the electric field"
     ]
    },
    {
     "cell_type": "markdown",
     "metadata": {},
     "source": [
      "We know from theory that the total E-field from N point charges is simply the superposition of the E-fields from each point charge:\n",
      "\n",
      "\n",
      "$$\\vec{E} = \\sum_{i=1}^N \\vec{E}_i = \\frac{1}{4\\pi\\varepsilon_0} \\sum_{i=1}^N \\frac{q_i}{r_i^2} \\hat{r}_i, \\quad  \\hat{r}_i= \\frac{\\vec{r}_i}{r_i} = \\frac{x_i \\hat{i} + y_i \\hat{j}}{r_i},$$\n",
      "\n",
      "where $\\vec r_i$ is the distance from charge $q_i$ and $\\hat{r}_i$ the corresponding unit vector.\n",
      "\n",
      "In this section we will use this expression in order to calculate the electric field whitin the boundary points. There are several steps that should be included (make sure you understand why these steps are listed!):\n",
      "\n",
      "<ul type=\"circle\">\n",
      "    <li>Iterate through all charges</li>\n",
      "    <li>Iterate in the region of interest</li>\n",
      "    <li> Calculate vector components in the charge-to-point direction.</li>\n",
      "    <li> Calculate distance $|\\vec{r}|$ between current point and this charge.</li>\n",
      "         <ul type=\"circle\">\n",
      "           <li>If $|\\vec{r}|= 0$ do not count the contribution, since $|\\vec E| \\rightarrow \\infty$ when $|\\vec r| \\rightarrow 0$. </li>\n",
      "         </ul>\n",
      "    <li>Calculate $x$ and $y$ contributions to the electric field for this charge and point. Add\n",
      "      it as a vector to the result obtained with previous charges.</li>\n",
      "</ul>\n",
      "\n",
      "                \n",
      "\n",
      "\n",
      "\n"
     ]
    },
    {
     "cell_type": "code",
     "collapsed": false,
     "input": [
      "# Iterate through each charge on outer loop\n",
      "# i,j are 'plotting' coordinates\n",
      "# x,y are 'E field calculation' coordinates\n",
      "for q in range(4):\n",
      "  i = 0\n",
      "  # Now iterate in the region of interest, dividing it in\n",
      "  # discrete points, to be able to plot\n",
      "  for x in xPoints:\n",
      "    j = 0\n",
      "    for y in yPoints:\n",
      "      # Calculate vector components in the charge-to-point direction\n",
      "      rx = x-xPosition[q]\n",
      "      ry = y-yPosition[q]\n",
      "\n",
      "      # Calculate distance r between current point and this charge\n",
      "      r = sqrt(rx**2+ry**2)\n",
      "\n",
      "      # Do not count current charge if calculating point on\n",
      "      # of charge position\n",
      "      if( r == 0 ):\n",
      "        continue\n",
      "      \n",
      "      \n",
      "      # calculate unit vector\n",
      "      rx = rx/r\n",
      "      ry = ry/r\n",
      "\n",
      "      # Calculate X and Y contributions for this charge and point, adding\n",
      "      # it as a vector to the result obtained with previous charges.\n",
      "      E = (charge[q]/(4*pi*epsilon0*r**2))\n",
      "      Ex[j,i] += E*rx\n",
      "      Ey[j,i] += E*ry\n",
      "      j = j+1 \n",
      "    i = i+1  "
     ],
     "language": "python",
     "metadata": {},
     "outputs": []
    },
    {
     "cell_type": "markdown",
     "metadata": {},
     "source": [
      "---\n",
      "###Step 6: Make plot"
     ]
    },
    {
     "cell_type": "markdown",
     "metadata": {},
     "source": [
      "We are now ready to plot our results! First of all, we want to make a plot of the strength of the electric field. A good way to visualize this is by making a 2D-color plot. Python has a function for making such plot; `imshow()`. This function takes a matrix as input and makes a color plot of it. `imshow()` also gives us the opportunity to specify whether images should be plotted with the array origin $x[0,0]$ in the upper left or upper right by using the origin parameter. The extent argument is added to get right values on the axis. \n",
      "\n",
      "Run the cell below to visulize the field magnitude!"
     ]
    },
    {
     "cell_type": "code",
     "collapsed": false,
     "input": [
      "#Set figure size\n",
      "figure(figsize=(8,6))\n",
      "\n",
      "extent = [xMin,xMax,yMin,yMax]\n",
      "imshow(sqrt(Ex**2+Ey**2),origin='lower', extent = extent)\n",
      "\n",
      "#Add colorbar\n",
      "colorbar()\n",
      "\n",
      "# Add title and units, label axes\n",
      "title(\"Electric field magnitude [V/m]\")\n",
      "xlabel('X position [m]')\n",
      "ylabel('Y position [m]')"
     ],
     "language": "python",
     "metadata": {},
     "outputs": []
    },
    {
     "cell_type": "markdown",
     "metadata": {},
     "source": [
      "Next step is to visualize the direction of the field in space. This can be done using `quiver()` function in Python. This function needs the $x$- and $y$-coordinates and the corrosponding values of the field in $x$- and $y$-direction. \n",
      "\n",
      "Run the cell below to make a vector plot!"
     ]
    },
    {
     "cell_type": "code",
     "collapsed": false,
     "input": [
      "figure(figsize=(8,8))\n",
      "h = quiver(xPoints,yPoints,Ex, Ey);\n",
      "\n",
      "# Add title and units, label axes\n",
      "title(\"Electric field direction at each point\")\n",
      "xlabel('X position [m]')\n",
      "ylabel('Y position [m]')"
     ],
     "language": "python",
     "metadata": {},
     "outputs": []
    },
    {
     "cell_type": "markdown",
     "metadata": {},
     "source": [
      "Sometimes it becomes difficult to see the direction of the arrows in a vector plot. The solution is to draw vectors at fewer points. This is done in the cell below. Here we just draw a vector for every third point. The syntax\n",
      "\n",
      "    A[::3]\n",
      "\n",
      "returns every third element in vector A. Run the cell below."
     ]
    },
    {
     "cell_type": "code",
     "collapsed": false,
     "input": [
      "figure(figsize=(8,8))\n",
      "h = quiver(xPoints[::3],yPoints[::3],Ex[::3,::3], Ey[::3,::3]);\n",
      "\n",
      "# Add title and units, label axes\n",
      "title(\"Electric field direction at each point\")\n",
      "xlabel('X position [m]')\n",
      "ylabel('Y position [m]')"
     ],
     "language": "python",
     "metadata": {},
     "outputs": []
    },
    {
     "cell_type": "markdown",
     "metadata": {},
     "source": [
      "If you wish to plot both the magnitude and direction of the field in the same figure, run the cell below."
     ]
    },
    {
     "cell_type": "code",
     "collapsed": false,
     "input": [
      "figure(figsize=(8,6))\n",
      "\n",
      "extent = [xMin,xMax,yMin,yMax]\n",
      "imshow(sqrt(Ex**2+Ey**2),origin='lower', extent = extent)\n",
      "\n",
      "#Add colorbar\n",
      "colorbar()\n",
      "\n",
      "h = quiver(xPoints[::3],yPoints[::3],Ex[::3,::3], Ey[::3,::3]);\n",
      "\n",
      "# Add title and units, label axes\n",
      "title(\"Electric field magnitude [V/m] and direction at each point\")\n",
      "xlabel('X position [m]')\n",
      "ylabel('Y position [m]')"
     ],
     "language": "python",
     "metadata": {},
     "outputs": []
    },
    {
     "cell_type": "markdown",
     "metadata": {},
     "source": [
      "---\n",
      "##The physics"
     ]
    },
    {
     "cell_type": "markdown",
     "metadata": {
      "slideshow": {
       "slide_type": "slide"
      }
     },
     "source": [
      "Physical phenomena becomes often easier to understand, when we have the opportunity  to visualize them. We have in this simple demo, shown how we can visualize the electric field from point charges. Hopefully this has helped you to get a better understanding of vector fields and field lines. However, please note that it is not just important to get the right plot, but you must also be able to interpret the results! The main goal is not to get the  right plot, but to learn physics!\n",
      "\n",
      "\n",
      "Try now to change the charges (both magnitude and sign) and check if the resulting E-field is as you expect.\n",
      "\n",
      "\n",
      "\n"
     ]
    },
    {
     "cell_type": "markdown",
     "metadata": {},
     "source": [
      "---\n",
      "##Symbolic calculation with SymPy\n",
      "This part is optional, but we recommend you nevertheless to take a look, since the tool we are going to present here is a really useful and can be used not only in this course, but also in other courses.\n",
      "\n",
      "Python has a library for symbolic computation, [SymPy](http://en.wikipedia.org/wiki/SymPy), which  includes features ranging from basic symbolic arithmetic to calculus, algebra, discrete mathematics and quantum physics. It is also capable of formatting the result of the computations as LaTeX code. We will in the following use this package to find the electric field at the origo, expressed in terms of $q$ and $a$.\n",
      "\n",
      " * First of all we must include the SymPy library."
     ]
    },
    {
     "cell_type": "code",
     "collapsed": false,
     "input": [
      "from sympy import*\n",
      "init_printing(use_latex=True)"
     ],
     "language": "python",
     "metadata": {},
     "outputs": []
    },
    {
     "cell_type": "markdown",
     "metadata": {},
     "source": [
      "`init_printing(use_latex=True)` formates the output as LaTex."
     ]
    },
    {
     "cell_type": "markdown",
     "metadata": {},
     "source": [
      "* Next step is to define the symbols we want. In our case we have the following symbols:"
     ]
    },
    {
     "cell_type": "code",
     "collapsed": false,
     "input": [
      "q = symbols('q', real=True)\n",
      "k = symbols('k', real=True, positive=True)\n",
      "a = symbols('a', real=True, positive=True)"
     ],
     "language": "python",
     "metadata": {},
     "outputs": []
    },
    {
     "cell_type": "markdown",
     "metadata": {},
     "source": [
      "Notice that when we create the symbols, we throw in some \u00b4keyboard arguments\u00b4, which will help SymPy to simplify our expressions later. It is good practice to explicitly tell SymPy which kind of number different symbols represent. If you don't specify anything, then SymPy will take into account that the number could be complex, non-interger and so on. In our case all the symbols are real and positive, except $q$ which can be both positive and negative.\n",
      "\n",
      "Having defined these symbols, we are now able to do calculations with these. For example: "
     ]
    },
    {
     "cell_type": "code",
     "collapsed": false,
     "input": [
      "display(q+a)\n",
      "display(a**q) \n",
      "display(k/q)"
     ],
     "language": "python",
     "metadata": {},
     "outputs": []
    },
    {
     "cell_type": "markdown",
     "metadata": {},
     "source": [
      "`display()` works like the `print` function, and is used to print several expressions after each other."
     ]
    },
    {
     "cell_type": "markdown",
     "metadata": {},
     "source": [
      "* By using $a$, we can now set up the position vectors. $O$ is the position vector at origo."
     ]
    },
    {
     "cell_type": "code",
     "collapsed": false,
     "input": [
      "r1 = Rational(1,2)*array([ a,  a]) \n",
      "r2 = Rational(1,2)*array([-a,  a])\n",
      "r3 = Rational(1,2)*array([-a, -a])\n",
      "r4 = Rational(1,2)*array([ a, -a])\n",
      "\n",
      "O = array([0, 0])"
     ],
     "language": "python",
     "metadata": {},
     "outputs": []
    },
    {
     "cell_type": "markdown",
     "metadata": {},
     "source": [
      "As you can see we have used `Rational(1,2)` instead of just multipying the vectors with 0.5. The reason for this is to get a prettier output. `Rational(1,2)` gives us the result as fraction and not as a decimal number. "
     ]
    },
    {
     "cell_type": "code",
     "collapsed": false,
     "input": [
      "display(0.5)\n",
      "display(1.0/2.0) \n",
      "display(Rational(1,2))"
     ],
     "language": "python",
     "metadata": {},
     "outputs": []
    },
    {
     "cell_type": "markdown",
     "metadata": {},
     "source": [
      "* Next step is to set up the expressions for the electric field. Here we use that \n",
      "\n",
      "$$ \\vec{E}_i = \\overbrace{\\frac{1}{4\\pi\\varepsilon_0}}^{k} \\frac{q_i}{r_i^{3}} \\vec{r}_i$$\n",
      "\n",
      "`dot(x,x)` gives the dot product of vector $x$ with it self; the length of vector $x$ squared.  "
     ]
    },
    {
     "cell_type": "code",
     "collapsed": false,
     "input": [
      "E1 =  k*q /dot((O-r1),(O-r1))**Rational(3,2) * (O-r1)\n",
      "E2 =  k*q /dot((O-r2),(O-r2))**Rational(3,2) * (O-r2)\n",
      "E3 = -k*q /dot((O-r3),(O-r3))**Rational(3,2) * (O-r3)\n",
      "E4 = -k*q /dot((O-r4),(O-r4))**Rational(3,2) * (O-r4)"
     ],
     "language": "python",
     "metadata": {},
     "outputs": []
    },
    {
     "cell_type": "markdown",
     "metadata": {},
     "source": [
      "* The total electric field is just sum of all the contributions."
     ]
    },
    {
     "cell_type": "code",
     "collapsed": false,
     "input": [
      "E = E1+E2+E3+E4\n",
      "E[0], E[1]"
     ],
     "language": "python",
     "metadata": {},
     "outputs": []
    },
    {
     "cell_type": "markdown",
     "metadata": {},
     "source": [
      "Voila! The electric field at origo is $\\vec E = -\\frac{4 \\sqrt{2} kq}{a^2} \\hat{j}$. \n",
      "\n",
      "If you want the result in plain LaTex syntax use the `latex()` function:"
     ]
    },
    {
     "cell_type": "code",
     "collapsed": false,
     "input": [
      "latex(E[1])"
     ],
     "language": "python",
     "metadata": {},
     "outputs": []
    },
    {
     "cell_type": "markdown",
     "metadata": {},
     "source": [
      "As you can see SymPy is a really powerful tool. We hope it can make things easier for you throughout this course and also other courses. If you are interessted to learn more about SymPy, please visit this [site](http://docs.sympy.org/0.7.3/index.html). A good starting point would be to start at `SymPy Tutorial`. Good luck!"
     ]
    }
   ],
   "metadata": {}
  }
 ]
}